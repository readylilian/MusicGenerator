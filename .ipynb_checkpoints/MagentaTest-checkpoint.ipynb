{
 "cells": [
  {
   "cell_type": "code",
   "execution_count": 6,
   "metadata": {},
   "outputs": [],
   "source": [
    "import fluidsynth\n",
    "import magenta\n",
    "import note_seq\n",
    "import tensorflow\n",
    "import glob\n",
    "import tempfile as tmp"
   ]
  },
  {
   "cell_type": "code",
   "execution_count": 7,
   "metadata": {
    "pycharm": {
     "name": "#%%\n"
    }
   },
   "outputs": [
    {
     "ename": "TypeError",
     "evalue": "list indices must be integers or slices, not str",
     "output_type": "error",
     "traceback": [
      "\u001b[1;31m---------------------------------------------------------------------------\u001b[0m",
      "\u001b[1;31mTypeError\u001b[0m                                 Traceback (most recent call last)",
      "\u001b[1;32m<ipython-input-7-a1845ccae77d>\u001b[0m in \u001b[0;36m<module>\u001b[1;34m\u001b[0m\n\u001b[0;32m     65\u001b[0m     \u001b[0mnote_seq\u001b[0m\u001b[1;33m.\u001b[0m\u001b[0mplot_sequence\u001b[0m\u001b[1;33m(\u001b[0m\u001b[0msequence\u001b[0m\u001b[1;33m)\u001b[0m\u001b[1;33m\u001b[0m\u001b[1;33m\u001b[0m\u001b[0m\n\u001b[0;32m     66\u001b[0m \u001b[1;33m\u001b[0m\u001b[0m\n\u001b[1;32m---> 67\u001b[1;33m \u001b[0mimport1\u001b[0m\u001b[1;33m(\u001b[0m\u001b[1;33m)\u001b[0m\u001b[1;33m\u001b[0m\u001b[1;33m\u001b[0m\u001b[0m\n\u001b[0m\u001b[0;32m     68\u001b[0m \u001b[1;33m\u001b[0m\u001b[0m\n\u001b[0;32m     69\u001b[0m \u001b[1;33m\u001b[0m\u001b[0m\n",
      "\u001b[1;32m<ipython-input-7-a1845ccae77d>\u001b[0m in \u001b[0;36mimport1\u001b[1;34m()\u001b[0m\n\u001b[0;32m     61\u001b[0m     \u001b[1;32mfor\u001b[0m \u001b[0mx\u001b[0m \u001b[1;32min\u001b[0m \u001b[0mmidi1_set\u001b[0m\u001b[1;33m:\u001b[0m\u001b[1;33m\u001b[0m\u001b[1;33m\u001b[0m\u001b[0m\n\u001b[0;32m     62\u001b[0m         \u001b[1;31m##sequence = music_pb2.NoteSequence()\u001b[0m\u001b[1;33m\u001b[0m\u001b[1;33m\u001b[0m\u001b[1;33m\u001b[0m\u001b[0m\n\u001b[1;32m---> 63\u001b[1;33m         \u001b[0msequence\u001b[0m \u001b[1;33m=\u001b[0m \u001b[0mnote_seq\u001b[0m\u001b[1;33m.\u001b[0m\u001b[0mmidi_file_to_note_sequence\u001b[0m\u001b[1;33m(\u001b[0m\u001b[0mmidi1_set\u001b[0m\u001b[1;33m[\u001b[0m\u001b[0mx\u001b[0m\u001b[1;33m]\u001b[0m\u001b[1;33m)\u001b[0m\u001b[1;33m\u001b[0m\u001b[1;33m\u001b[0m\u001b[0m\n\u001b[0m\u001b[0;32m     64\u001b[0m \u001b[1;33m\u001b[0m\u001b[0m\n\u001b[0;32m     65\u001b[0m     \u001b[0mnote_seq\u001b[0m\u001b[1;33m.\u001b[0m\u001b[0mplot_sequence\u001b[0m\u001b[1;33m(\u001b[0m\u001b[0msequence\u001b[0m\u001b[1;33m)\u001b[0m\u001b[1;33m\u001b[0m\u001b[1;33m\u001b[0m\u001b[0m\n",
      "\u001b[1;31mTypeError\u001b[0m: list indices must be integers or slices, not str"
     ]
    }
   ],
   "source": [
    "def test1():\n",
    "    from note_seq.protobuf import music_pb2\n",
    "\n",
    "    twinkle_twinkle = music_pb2.NoteSequence()\n",
    "\n",
    "    velo = 80\n",
    "\n",
    "    # Add the notes to the sequence.\n",
    "    twinkle_twinkle.notes.add(pitch=60, start_time=0.0, end_time=0.5, velocity=velo)\n",
    "    twinkle_twinkle.notes.add(pitch=60, start_time=0.5, end_time=1.0, velocity=velo)\n",
    "    twinkle_twinkle.notes.add(pitch=67, start_time=1.0, end_time=1.5, velocity=velo)\n",
    "    twinkle_twinkle.notes.add(pitch=67, start_time=1.5, end_time=2.0, velocity=velo)\n",
    "    twinkle_twinkle.notes.add(pitch=69, start_time=2.0, end_time=2.5, velocity=velo)\n",
    "    twinkle_twinkle.notes.add(pitch=69, start_time=2.5, end_time=3.0, velocity=velo)\n",
    "    twinkle_twinkle.notes.add(pitch=67, start_time=3.0, end_time=4.0, velocity=velo)\n",
    "    twinkle_twinkle.notes.add(pitch=65, start_time=4.0, end_time=4.5, velocity=velo)\n",
    "    twinkle_twinkle.notes.add(pitch=65, start_time=4.5, end_time=5.0, velocity=velo)\n",
    "    twinkle_twinkle.notes.add(pitch=64, start_time=5.0, end_time=5.5, velocity=velo)\n",
    "    twinkle_twinkle.notes.add(pitch=64, start_time=5.5, end_time=6.0, velocity=80)\n",
    "    twinkle_twinkle.notes.add(pitch=62, start_time=6.0, end_time=6.5, velocity=80)\n",
    "    twinkle_twinkle.notes.add(pitch=62, start_time=6.5, end_time=7.0, velocity=80)\n",
    "    twinkle_twinkle.notes.add(pitch=60, start_time=7.0, end_time=8.0, velocity=80)\n",
    "    twinkle_twinkle.total_time = 8\n",
    "\n",
    "    twinkle_twinkle.tempos.add(qpm=60)\n",
    "\n",
    "    # This is a colab utility method that visualizes a NoteSequence.\n",
    "    note_seq.plot_sequence(twinkle_twinkle)\n",
    "\n",
    "    # This is a colab utility method that plays a NoteSequence.\n",
    "    note_seq.play_sequence(twinkle_twinkle, synth=note_seq.fluidsynth)\n",
    "\n",
    "    # Here's another NoteSequence!\n",
    "    teapot = music_pb2.NoteSequence()\n",
    "    teapot.notes.add(pitch=69, start_time=0, end_time=0.5, velocity=80)\n",
    "    teapot.notes.add(pitch=71, start_time=0.5, end_time=1, velocity=80)\n",
    "    teapot.notes.add(pitch=73, start_time=1, end_time=1.5, velocity=80)\n",
    "    teapot.notes.add(pitch=74, start_time=1.5, end_time=2, velocity=80)\n",
    "    teapot.notes.add(pitch=76, start_time=2, end_time=2.5, velocity=80)\n",
    "    teapot.notes.add(pitch=81, start_time=3, end_time=4, velocity=80)\n",
    "    teapot.notes.add(pitch=78, start_time=4, end_time=5, velocity=80)\n",
    "    teapot.notes.add(pitch=81, start_time=5, end_time=6, velocity=80)\n",
    "    teapot.notes.add(pitch=76, start_time=6, end_time=8, velocity=80)\n",
    "    teapot.total_time = 8\n",
    "\n",
    "    teapot.tempos.add(qpm=60)\n",
    "\n",
    "    note_seq.plot_sequence(teapot)\n",
    "    note_seq.play_sequence(teapot, synth=note_seq.synthesize)\n",
    "##test1()\n",
    "\n",
    "def import1():\n",
    "    from note_seq.protobuf import music_pb2\n",
    "\n",
    "    ##twinkle_twinkle = music_pb2.NoteSequence()\n",
    "\n",
    "    midi1_set = glob.glob(\"./MidiSet1/*.mid\")\n",
    "    midi2_set = glob.glob(\"./MidiSet2/*.mid\")\n",
    "    midi3_set = glob.glob(\"./MidiSet3/*.mid\")\n",
    "\n",
    "    for x in midi1_set:\n",
    "        ##sequence = music_pb2.NoteSequence()\n",
    "        sequence = note_seq.midi_file_to_note_sequence(midi1_set[x])\n",
    "\n",
    "    note_seq.plot_sequence(sequence)\n",
    "\n",
    "import1()\n",
    "\n",
    "\n"
   ]
  },
  {
   "cell_type": "code",
   "execution_count": null,
   "metadata": {},
   "outputs": [],
   "source": []
  }
 ],
 "metadata": {
  "kernelspec": {
   "display_name": "Python 3",
   "language": "python",
   "name": "python3"
  },
  "language_info": {
   "codemirror_mode": {
    "name": "ipython",
    "version": 3
   },
   "file_extension": ".py",
   "mimetype": "text/x-python",
   "name": "python",
   "nbconvert_exporter": "python",
   "pygments_lexer": "ipython3",
   "version": "3.7.8"
  }
 },
 "nbformat": 4,
 "nbformat_minor": 1
}
